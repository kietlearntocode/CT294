{
 "cells": [
  {
   "metadata": {},
   "cell_type": "markdown",
   "source": [
    "# This is a sample Jupyter Notebook\n",
    "\n",
    "Below is an example of a code cell. \n",
    "Put your cursor into the cell and press Shift+Enter to execute it and select the next one, or click 'Run Cell' button.\n",
    "\n",
    "Press Double Shift to search everywhere for classes, files, tool windows, actions, and settings.\n",
    "\n",
    "To learn more about Jupyter Notebooks in PyCharm, see [help](https://www.jetbrains.com/help/pycharm/ipython-notebook-support.html).\n",
    "For an overview of PyCharm, go to Help -> Learn IDE features or refer to [our documentation](https://www.jetbrains.com/help/pycharm/getting-started.html)."
   ],
   "id": "8a77807f92f26ee"
  },
  {
   "metadata": {},
   "cell_type": "markdown",
   "source": "THƯ VIỆN",
   "id": "706a8bf29e84620c"
  },
  {
   "metadata": {},
   "cell_type": "code",
   "source": [
    "import pandas as pd\n",
    "import numpy as np\n",
    "import matplotlib.pyplot as plt\n",
    "from sklearn.model_selection import StratifiedShuffleSplit\n",
    "from sklearn.neighbors import KNeighborsClassifier\n",
    "from sklearn.metrics import f1_score\n",
    "from sklearn.preprocessing import StandardScaler\n",
    "from imblearn.over_sampling import SMOTE"
   ],
   "id": "fbc121e30a2defb3",
   "outputs": [],
   "execution_count": null
  },
  {
   "metadata": {},
   "cell_type": "markdown",
   "source": "TẢI TẬP DỮ LIỆU PARKINSONS",
   "id": "a8deb36f71c3c56e"
  },
  {
   "metadata": {},
   "cell_type": "code",
   "source": [
    "path = '..\\data\\parkinsons.data'\n",
    "data = pd.read_csv(path, sep=',')\n",
    "data.head()"
   ],
   "id": "350c76953402a920",
   "outputs": [],
   "execution_count": null
  },
  {
   "metadata": {},
   "cell_type": "markdown",
   "source": "THUỘC TÍNH(KHÔNG BAO GỒM CỘT NAME) VÀ NHÃN(CỘT STATUS) CỦA TẬP DỮ LIỆU",
   "id": "82a9e732b7e3592e"
  },
  {
   "metadata": {},
   "cell_type": "code",
   "source": "data.info()",
   "id": "2679147d469bea73",
   "outputs": [],
   "execution_count": null
  },
  {
   "metadata": {},
   "cell_type": "markdown",
   "source": "TÁCH THUỘC TÍNH VÀ NHÃN",
   "id": "8f59331a02a95f09"
  },
  {
   "metadata": {},
   "cell_type": "code",
   "source": [
    "X = data.drop(columns=['name', 'status'])\n",
    "y = data['status']"
   ],
   "id": "8ac2ddaa14a4bdfa",
   "outputs": [],
   "execution_count": null
  },
  {
   "metadata": {},
   "cell_type": "code",
   "source": "X.head()",
   "id": "133022d10a07f9cb",
   "outputs": [],
   "execution_count": null
  },
  {
   "metadata": {},
   "cell_type": "markdown",
   "source": "KIỂM TRA DỮ LIỆU KHUYẾT THIẾU",
   "id": "bf1f65b32250b660"
  },
  {
   "metadata": {},
   "cell_type": "code",
   "source": "X.isnull().sum()",
   "id": "504c10b58e688bba",
   "outputs": [],
   "execution_count": null
  },
  {
   "metadata": {},
   "cell_type": "code",
   "source": "y.head()",
   "id": "f0c36f8f2ad12791",
   "outputs": [],
   "execution_count": null
  },
  {
   "metadata": {},
   "cell_type": "markdown",
   "source": "KIỂM TRA ĐỘ CÂN BẰNG NHÃN",
   "id": "c39ed765d6f33798"
  },
  {
   "metadata": {},
   "cell_type": "code",
   "source": "y.value_counts()",
   "id": "f75b29ead69d7a3b",
   "outputs": [],
   "execution_count": null
  },
  {
   "metadata": {},
   "cell_type": "markdown",
   "source": "HOLD OUT",
   "id": "90b87a6014451bf5"
  },
  {
   "metadata": {},
   "cell_type": "code",
   "source": [
    "# Thử từng k để chọn k tốt nhất.\n",
    "# Chọn k lẻ vì bài toán có 2 lớp, tránh hòa phiếu\n",
    "k_values = range(3,22, 2)\n",
    "\n",
    "result = {}\n",
    "num_iterations = 100\n",
    "# lặp 100 lần mỗi k\n",
    "sss = StratifiedShuffleSplit(n_splits=num_iterations, test_size=0.2, random_state=42)\n",
    "for k in k_values:\n",
    "    f1_scores = []\n",
    "\n",
    "    for split_idx, (train_idx, test_idx) in enumerate(sss.split(X, y)):\n",
    "        X_train, X_test = X.iloc[train_idx], X.iloc[test_idx]\n",
    "        y_train, y_test = y.iloc[train_idx], y.iloc[test_idx]\n",
    "\n",
    "        scaler = StandardScaler()\n",
    "        X_train_scaled = pd.DataFrame(scaler.fit_transform(X_train),index=X_train.index,columns=X_train.columns)\n",
    "        X_test_scaled = pd.DataFrame(scaler.transform(X_test),index=X_test.index,columns=X_test.columns)\n",
    "        # StandardScaler chuẩn hóa theo công thức Z-score:\n",
    "        #     X_scaled = (X - μ) / σ\n",
    "        # Trong đó:\n",
    "        #     - X: giá trị gốc\n",
    "        #     - μ: trung bình của thuộc tính (mean)\n",
    "        #     - σ: độ lệch chuẩn (standard deviation)\n",
    "        # Kết quả: dữ liệu có mean = 0 và std = 1\n",
    "\n",
    "        smote = SMOTE(random_state=42)\n",
    "        X_resampled, y_resampled = smote.fit_resample(X_train_scaled, y_train)\n",
    "\n",
    "        model = KNeighborsClassifier(n_neighbors=k)\n",
    "        model.fit(X_resampled, y_resampled)\n",
    "        y_pred = model.predict(X_test_scaled)\n",
    "\n",
    "        f1 = f1_score(y_test, y_pred, average='binary')\n",
    "        f1_scores.append(f1)\n",
    "\n",
    "    mean_f1 = np.mean(f1_scores)\n",
    "    std_f1 = np.std(f1_scores)\n",
    "    result[k] = mean_f1, std_f1\n",
    "\n",
    "# Tìm k tốt nhất theo F1-score trung bình\n",
    "best_k_value, (best_mean_f1, best_std_f1) = max(result.items(), key=lambda x: x[1][0])"
   ],
   "id": "bf748bf70fddb9f0",
   "outputs": [],
   "execution_count": null
  },
  {
   "metadata": {},
   "cell_type": "markdown",
   "source": "SO SÁNH F1 TRUNG BÌNH VÀ ĐỘ LỆCH CHUẨN CỦA MÔ HÌNH KNN THEO K",
   "id": "a72f9211788f8713"
  },
  {
   "metadata": {},
   "cell_type": "code",
   "source": [
    "k_vals = list(result.keys())\n",
    "means = [result[k][0] * 100 for k in k_vals]   # F1-score trung bình của từng lần lặp k\n",
    "stds = [result[k][1] * 100 for k in k_vals]   # Độ lệch chuẩn F1 (%) của từng lần lặp k\n",
    "\n",
    "plt.figure(figsize=(10, 6))\n",
    "plt.errorbar(k_vals, means, yerr=stds, fmt='-o', capsize=4, color='darkgreen')\n",
    "plt.axvline(best_k_value, color='red', linestyle='--', label=f'Best k = {best_k_value}')\n",
    "plt.xlabel('Giá trị k')\n",
    "plt.xticks(range(min(k_vals), max(k_vals)+1, 2))\n",
    "plt.yticks(range(76, 101, 2))\n",
    "plt.ylabel('F1-score trung bình (%)')\n",
    "plt.title('F1-score theo k và độ ổn định (± std)')\n",
    "plt.legend()\n",
    "plt.grid(True, linestyle='--', alpha=0.5)\n",
    "plt.show()\n"
   ],
   "id": "8aaed0a14a0f33b8",
   "outputs": [],
   "execution_count": null
  },
  {
   "metadata": {},
   "cell_type": "markdown",
   "source": "ĐỘ CHÍNH XÁC CỦA MÔ HÌNH",
   "id": "7039c36a857106aa"
  },
  {
   "metadata": {},
   "cell_type": "code",
   "source": "print(f\"F1-score (%) = {best_mean_f1 * 100:.2f}%\")",
   "id": "5637a7e4006c135c",
   "outputs": [],
   "execution_count": null
  },
  {
   "metadata": {},
   "cell_type": "code",
   "source": [
    "print(\"k |   F1 (%)|   Std   |  RSD (%)\")\n",
    "print(\"-\" * 32)\n",
    "for k, (mean, std) in result.items():\n",
    "    rsd = (std / mean) * 100\n",
    "    print(f\"{k:2} | {mean * 100:.2f}%  | {std:.4f} | {rsd:.2f}%\")"
   ],
   "id": "7b881fe29cd6b3ad",
   "outputs": [],
   "execution_count": null
  }
 ],
 "metadata": {
  "kernelspec": {
   "display_name": "Python 3",
   "language": "python",
   "name": "python3"
  },
  "language_info": {
   "codemirror_mode": {
    "name": "ipython",
    "version": 2
   },
   "file_extension": ".py",
   "mimetype": "text/x-python",
   "name": "python",
   "nbconvert_exporter": "python",
   "pygments_lexer": "ipython2",
   "version": "2.7.6"
  }
 },
 "nbformat": 4,
 "nbformat_minor": 5
}
