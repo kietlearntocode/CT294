{
 "cells": [
  {
   "metadata": {},
   "cell_type": "markdown",
   "source": [
    "# This is a sample Jupyter Notebook\n",
    "\n",
    "Below is an example of a code cell. \n",
    "Put your cursor into the cell and press Shift+Enter to execute it and select the next one, or click 'Run Cell' button.\n",
    "\n",
    "Press Double Shift to search everywhere for classes, files, tool windows, actions, and settings.\n",
    "\n",
    "To learn more about Jupyter Notebooks in PyCharm, see [help](https://www.jetbrains.com/help/pycharm/ipython-notebook-support.html).\n",
    "For an overview of PyCharm, go to Help -> Learn IDE features or refer to [our documentation](https://www.jetbrains.com/help/pycharm/getting-started.html)."
   ],
   "id": "8a77807f92f26ee"
  },
  {
   "metadata": {},
   "cell_type": "markdown",
   "source": "THƯ VIỆN",
   "id": "706a8bf29e84620c"
  },
  {
   "metadata": {},
   "cell_type": "code",
   "source": [
    "import pandas as pd\n",
    "import numpy as np\n",
    "import matplotlib.pyplot as plt\n",
    "from sklearn.model_selection import StratifiedShuffleSplit\n",
    "from sklearn.tree import DecisionTreeClassifier\n",
    "from sklearn.metrics import make_scorer, f1_score, recall_score, precision_score\n",
    "from sklearn.preprocessing import StandardScaler\n",
    "from imblearn.over_sampling import SMOTE\n",
    "from itertools import product\n",
    "from joblib import Parallel, delayed"
   ],
   "id": "fbc121e30a2defb3",
   "outputs": [],
   "execution_count": null
  },
  {
   "metadata": {},
   "cell_type": "markdown",
   "source": "TẢI TẬP DỮ LIỆU PARKINSONS",
   "id": "a8deb36f71c3c56e"
  },
  {
   "metadata": {},
   "cell_type": "code",
   "source": [
    "path = '..\\data\\parkinsons.data'\n",
    "data = pd.read_csv(path, sep=',')\n",
    "data.head()"
   ],
   "id": "350c76953402a920",
   "outputs": [],
   "execution_count": null
  },
  {
   "metadata": {},
   "cell_type": "markdown",
   "source": "THUỘC TÍNH(KHÔNG BAO GỒM CỘT NAME) VÀ NHÃN(CỘT STATUS) CỦA TẬP DỮ LIỆU",
   "id": "82a9e732b7e3592e"
  },
  {
   "metadata": {},
   "cell_type": "code",
   "source": "data.info()",
   "id": "2679147d469bea73",
   "outputs": [],
   "execution_count": null
  },
  {
   "metadata": {},
   "cell_type": "markdown",
   "source": "TÁCH THUỘC TÍNH VÀ NHÃN",
   "id": "8f59331a02a95f09"
  },
  {
   "metadata": {},
   "cell_type": "code",
   "source": [
    "X = data.drop(columns=['name', 'status'])\n",
    "y = data['status']"
   ],
   "id": "8ac2ddaa14a4bdfa",
   "outputs": [],
   "execution_count": null
  },
  {
   "metadata": {},
   "cell_type": "code",
   "source": "X.head()",
   "id": "133022d10a07f9cb",
   "outputs": [],
   "execution_count": null
  },
  {
   "metadata": {},
   "cell_type": "markdown",
   "source": "KIỂM TRA DỮ LIỆU KHUYẾT THIẾU",
   "id": "7d43a9455cd39067"
  },
  {
   "metadata": {},
   "cell_type": "code",
   "source": "print(X.isnull().sum())",
   "id": "db81655bbdce7de1",
   "outputs": [],
   "execution_count": null
  },
  {
   "metadata": {},
   "cell_type": "code",
   "source": "y.head()",
   "id": "f0c36f8f2ad12791",
   "outputs": [],
   "execution_count": null
  },
  {
   "metadata": {},
   "cell_type": "markdown",
   "source": "KIỂM TRA ĐỘ CÂN BẰNG NHÃN",
   "id": "3f54aec88096fc18"
  },
  {
   "metadata": {},
   "cell_type": "code",
   "source": "y.value_counts()",
   "id": "f1fb0b887dfd733c",
   "outputs": [],
   "execution_count": null
  },
  {
   "metadata": {},
   "cell_type": "markdown",
   "source": "HOLD OUT",
   "id": "90b87a6014451bf5"
  },
  {
   "metadata": {},
   "cell_type": "code",
   "source": [
    "# Chạy 1500 tổ hợp: 10 x 15 x 10\n",
    "param_grid = {\n",
    "    'max_depth': list(range(3, 11)),\n",
    "    'min_samples_split': list(range(5, 20)),\n",
    "    'min_samples_leaf': list(range(2, 11)),\n",
    "}\n",
    "\n",
    "num_iterations = 100  # Lặp 100 lần mỗi tổ hợp\n",
    "random_state_base = 42\n",
    "\n",
    "combos = []\n",
    "for max_depth, min_samples_split, min_samples_leaf in product(\n",
    "    param_grid['max_depth'],\n",
    "    param_grid['min_samples_split'],\n",
    "    param_grid['min_samples_leaf']\n",
    "):\n",
    "    if min_samples_leaf >= min_samples_split:\n",
    "        continue\n",
    "    combos.append({\n",
    "        'max_depth': max_depth,\n",
    "        'min_samples_split': min_samples_split,\n",
    "        'min_samples_leaf': min_samples_leaf\n",
    "    })\n",
    "\n",
    "\n",
    "def evaluate_combo(params):\n",
    "    f1_scores = []\n",
    "    precision_scores = []\n",
    "    recall_scores = []\n",
    "\n",
    "    rskf = StratifiedShuffleSplit(n_splits=num_iterations, test_size=0.2, random_state=42)\n",
    "    for split_id, (train_idx, test_idx) in enumerate(rskf.split(X, y)):\n",
    "        X_train, X_test = X.iloc[train_idx], X.iloc[test_idx]\n",
    "        y_train, y_test = y.iloc[train_idx], y.iloc[test_idx]\n",
    "\n",
    "        model = DecisionTreeClassifier(\n",
    "            max_depth=params['max_depth'],\n",
    "            min_samples_split=params['min_samples_split'],\n",
    "            min_samples_leaf=params['min_samples_leaf'],\n",
    "            random_state=random_state_base + split_id,\n",
    "            criterion='gini',\n",
    "            max_features='sqrt',\n",
    "            class_weight='balanced',\n",
    "        )\n",
    "\n",
    "        model.fit(X_train, y_train)\n",
    "        y_pred = model.predict(X_test)\n",
    "\n",
    "        f1_scores.append(f1_score(y_test, y_pred, average='binary'))\n",
    "        precision_scores.append(precision_score(y_test, y_pred, average='binary'))\n",
    "        recall_scores.append(recall_score(y_test, y_pred, average='binary'))\n",
    "\n",
    "    return {\n",
    "        **params,\n",
    "        'mean_f1': np.mean(f1_scores),\n",
    "        'std_f1': np.std(f1_scores),\n",
    "        'mean_precision': np.mean(precision_scores),\n",
    "        'std_precision': np.std(precision_scores),\n",
    "        'mean_recall': np.mean(recall_scores),\n",
    "        'std_recall': np.std(recall_scores)\n",
    "    }\n",
    "\n",
    "# Tính toán\n",
    "results = Parallel(n_jobs=-1)(\n",
    "    delayed(evaluate_combo)(params) for params in combos\n",
    ")\n",
    "\n",
    "# Kết quả\n",
    "df_result = pd.DataFrame(results)\n",
    "df_result_sorted = df_result.sort_values(by='mean_f1', ascending=False)"
   ],
   "id": "bf748bf70fddb9f0",
   "outputs": [],
   "execution_count": null
  },
  {
   "metadata": {},
   "cell_type": "code",
   "source": "df_result_sorted",
   "id": "fe58febf1dff40ce",
   "outputs": [],
   "execution_count": null
  }
 ],
 "metadata": {
  "kernelspec": {
   "display_name": "Python 3",
   "language": "python",
   "name": "python3"
  },
  "language_info": {
   "codemirror_mode": {
    "name": "ipython",
    "version": 2
   },
   "file_extension": ".py",
   "mimetype": "text/x-python",
   "name": "python",
   "nbconvert_exporter": "python",
   "pygments_lexer": "ipython2",
   "version": "2.7.6"
  }
 },
 "nbformat": 4,
 "nbformat_minor": 5
}
