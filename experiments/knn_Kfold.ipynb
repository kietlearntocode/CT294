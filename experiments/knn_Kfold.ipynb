{
 "cells": [
  {
   "metadata": {},
   "cell_type": "markdown",
   "source": [
    "# This is a sample Jupyter Notebook\n",
    "\n",
    "Below is an example of a code cell. \n",
    "Put your cursor into the cell and press Shift+Enter to execute it and select the next one, or click 'Run Cell' button.\n",
    "\n",
    "Press Double Shift to search everywhere for classes, files, tool windows, actions, and settings.\n",
    "\n",
    "To learn more about Jupyter Notebooks in PyCharm, see [help](https://www.jetbrains.com/help/pycharm/ipython-notebook-support.html).\n",
    "For an overview of PyCharm, go to Help -> Learn IDE features or refer to [our documentation](https://www.jetbrains.com/help/pycharm/getting-started.html)."
   ],
   "id": "8a77807f92f26ee"
  },
  {
   "metadata": {
    "ExecuteTime": {
     "end_time": "2025-07-05T05:27:28.872542Z",
     "start_time": "2025-07-05T05:27:27.905739Z"
    }
   },
   "cell_type": "code",
   "source": [
    "import pandas as pd\n",
    "import numpy as np\n",
    "import matplotlib.pyplot as plt\n",
    "from sklearn.model_selection import RepeatedStratifiedKFold\n",
    "from sklearn.neighbors import KNeighborsClassifier\n",
    "from sklearn.metrics import f1_score, precision_score, recall_score\n",
    "from sklearn.preprocessing import StandardScaler\n",
    "from imblearn.over_sampling import SMOTE"
   ],
   "id": "fbc121e30a2defb3",
   "outputs": [],
   "execution_count": 1
  },
  {
   "metadata": {
    "ExecuteTime": {
     "end_time": "2025-07-05T05:27:28.879945Z",
     "start_time": "2025-07-05T05:27:28.873545Z"
    }
   },
   "cell_type": "code",
   "source": [
    "path = '..\\data\\parkinsons.data'\n",
    "data = pd.read_csv(path, sep=',')"
   ],
   "id": "350c76953402a920",
   "outputs": [],
   "execution_count": 2
  },
  {
   "metadata": {
    "ExecuteTime": {
     "end_time": "2025-07-05T05:27:29.004286Z",
     "start_time": "2025-07-05T05:27:29.000719Z"
    }
   },
   "cell_type": "code",
   "source": [
    "X = data.drop(columns=['name', 'status'])\n",
    "y = data['status']"
   ],
   "id": "8ac2ddaa14a4bdfa",
   "outputs": [],
   "execution_count": 3
  },
  {
   "metadata": {},
   "cell_type": "markdown",
   "source": "K - FOLD",
   "id": "90b87a6014451bf5"
  },
  {
   "metadata": {
    "ExecuteTime": {
     "end_time": "2025-07-05T05:27:42.227218Z",
     "start_time": "2025-07-05T05:27:29.015648Z"
    }
   },
   "cell_type": "code",
   "source": [
    "# Thử từng k để chọn k tốt nhất.\n",
    "# Chọn k lẻ vì bài toán có 2 lớp, tránh hòa phiếu\n",
    "k_values = range(3, 22, 2)  # 3 -> 21\n",
    "result = {}\n",
    "\n",
    "# Bổ sung: Lưu kết quả chi tiết để tạo DataFrame\n",
    "result_list = []\n",
    "\n",
    "for k in k_values:\n",
    "    f1_scores = []\n",
    "    precision_scores = []\n",
    "    recall_scores = []\n",
    "\n",
    "    # lặp 100 mỗi k\n",
    "    rskf = RepeatedStratifiedKFold(n_splits=5, n_repeats=20, random_state=42)\n",
    "\n",
    "    for train_idx, test_idx in rskf.split(X, y):\n",
    "        X_train, X_test = X.iloc[train_idx], X.iloc[test_idx]\n",
    "        y_train, y_test = y.iloc[train_idx], y.iloc[test_idx]\n",
    "\n",
    "        scaler = StandardScaler()\n",
    "        X_train_scaled = pd.DataFrame(scaler.fit_transform(X_train), index=X_train.index, columns=X_train.columns)\n",
    "        X_test_scaled = pd.DataFrame(scaler.transform(X_test), index=X_test.index, columns=X_test.columns)\n",
    "        # StandardScaler chuẩn hóa theo công thức Z-score:\n",
    "        #     X_scaled = (X - μ) / σ\n",
    "        # Trong đó:\n",
    "        #     - X: giá trị gốc\n",
    "        #     - μ: trung bình của thuộc tính (mean)\n",
    "        #     - σ: độ lệch chuẩn (standard deviation)\n",
    "        # Kết quả: dữ liệu có mean = 0 và std = 1\n",
    "\n",
    "        smote = SMOTE(random_state=42)\n",
    "        X_resampled, y_resampled = smote.fit_resample(X_train_scaled, y_train)\n",
    "\n",
    "        model = KNeighborsClassifier(n_neighbors=k)\n",
    "        model.fit(X_resampled, y_resampled)\n",
    "        y_pred = model.predict(X_test_scaled)\n",
    "\n",
    "        f1 = f1_score(y_test, y_pred, average='binary')\n",
    "        prec = precision_score(y_test, y_pred, average='binary')\n",
    "        rec = recall_score(y_test, y_pred, average='binary')\n",
    "\n",
    "        f1_scores.append(f1)\n",
    "        precision_scores.append(prec)\n",
    "        recall_scores.append(rec)\n",
    "\n",
    "    mean_f1 = np.mean(f1_scores)\n",
    "    std_f1 = np.std(f1_scores)\n",
    "    mean_prec = np.mean(precision_scores)\n",
    "    std_prec = np.std(precision_scores)\n",
    "    mean_rec = np.mean(recall_scores)\n",
    "    std_rec = np.std(recall_scores)\n",
    "\n",
    "    result[k] = (mean_f1, std_f1)\n",
    "\n",
    "    # Bổ sung để tạo bảng kết quả\n",
    "    result_list.append({\n",
    "        \"k\": k,\n",
    "        \"mean_f1\": mean_f1,\n",
    "        \"std_f1\": std_f1,\n",
    "        \"mean_precision\": mean_prec,\n",
    "        \"std_precision\": std_prec,\n",
    "        \"mean_recall\": mean_rec,\n",
    "        \"std_recall\": std_rec\n",
    "    })\n",
    "\n",
    "# Tìm k tốt nhất theo F1 trung bình\n",
    "best_k_value, (best_mean_f1, best_std_f1) = max(result.items(), key=lambda x: x[1][0])\n",
    "\n",
    "# Bổ sung: Tạo DataFrame kết quả và sắp xếp\n",
    "result_df = pd.DataFrame(result_list)\n",
    "result_df = result_df.sort_values(by=\"mean_f1\", ascending=False).reset_index(drop=True)"
   ],
   "id": "bf748bf70fddb9f0",
   "outputs": [],
   "execution_count": 4
  },
  {
   "metadata": {},
   "cell_type": "markdown",
   "source": "SO SÁNH F1 TRUNG BÌNH VÀ ĐỘ LỆCH CHUẨN CỦA MÔ HÌNH KNN THEO K",
   "id": "a72f9211788f8713"
  },
  {
   "metadata": {
    "ExecuteTime": {
     "end_time": "2025-07-05T05:27:42.336991Z",
     "start_time": "2025-07-05T05:27:42.251686Z"
    }
   },
   "cell_type": "code",
   "source": [
    "k_vals = list(result.keys())\n",
    "means = [result[k][0] * 100 for k in k_vals]   # F1-score trung bình của từng lần lặp k\n",
    "stds = [result[k][1] * 100 for k in k_vals]   # Độ lệch chuẩn F1 (%) của từng lần lặp k\n",
    "\n",
    "plt.figure(figsize=(10, 6))\n",
    "plt.errorbar(k_vals, means, yerr=stds, fmt='-o', capsize=4, color='darkgreen')\n",
    "plt.axvline(best_k_value, color='red', linestyle='--', label=f'Best k = {best_k_value}')\n",
    "plt.xlabel('Giá trị k')\n",
    "plt.xticks(range(min(k_vals), max(k_vals)+1, 2))\n",
    "plt.yticks(range(76, 101, 2))\n",
    "plt.ylabel('F1-score trung bình (%)')\n",
    "plt.title('F1-score theo k và độ ổn định (± std)')\n",
    "plt.legend()\n",
    "plt.grid(True, linestyle='--', alpha=0.5)\n",
    "plt.show()"
   ],
   "id": "8aaed0a14a0f33b8",
   "outputs": [
    {
     "data": {
      "text/plain": [
       "<Figure size 1000x600 with 1 Axes>"
      ],
      "image/png": "[encoded data removed]"
     },
     "metadata": {},
     "output_type": "display_data"
    }
   ],
   "execution_count": 5
  },
  {
   "metadata": {},
   "cell_type": "markdown",
   "source": "ĐỘ CHÍNH XÁC CỦA MÔ HÌNH",
   "id": "7039c36a857106aa"
  },
  {
   "metadata": {
    "ExecuteTime": {
     "end_time": "2025-07-05T05:30:15.881573Z",
     "start_time": "2025-07-05T05:30:15.873588Z"
    }
   },
   "cell_type": "code",
   "source": "result_df",
   "id": "5637a7e4006c135c",
   "outputs": [
    {
     "data": {
      "text/plain": [
       "    k   mean_f1    std_f1  mean_precision  std_precision  mean_recall  \\\n",
       "0   3  0.928924  0.031333        0.980879       0.025431     0.884299   \n",
       "1   5  0.916877  0.032237        0.973230       0.028058     0.868989   \n",
       "2   7  0.907523  0.038361        0.974393       0.031628     0.852552   \n",
       "3   9  0.901331  0.041758        0.975860       0.028757     0.840678   \n",
       "4  11  0.894219  0.038541        0.973521       0.030084     0.830092   \n",
       "5  13  0.887222  0.040716        0.974528       0.031178     0.817793   \n",
       "6  15  0.877252  0.046346        0.973878       0.031050     0.802149   \n",
       "7  17  0.873770  0.046504        0.974399       0.031119     0.796356   \n",
       "8  19  0.868569  0.045271        0.975840       0.031641     0.786828   \n",
       "9  21  0.861032  0.048563        0.971586       0.034082     0.777299   \n",
       "\n",
       "   std_recall  \n",
       "0    0.054838  \n",
       "1    0.056185  \n",
       "2    0.066420  \n",
       "3    0.069738  \n",
       "4    0.066719  \n",
       "5    0.069130  \n",
       "6    0.077110  \n",
       "7    0.077899  \n",
       "8    0.076174  \n",
       "9    0.077124  "
      ],
      "text/html": [
       "<div>\n",
       "<style scoped>\n",
       "    .dataframe tbody tr th:only-of-type {\n",
       "        vertical-align: middle;\n",
       "    }\n",
       "\n",
       "    .dataframe tbody tr th {\n",
       "        vertical-align: top;\n",
       "    }\n",
       "\n",
       "    .dataframe thead th {\n",
       "        text-align: right;\n",
       "    }\n",
       "</style>\n",
       "<table border=\"1\" class=\"dataframe\">\n",
       "  <thead>\n",
       "    <tr style=\"text-align: right;\">\n",
       "      <th></th>\n",
       "      <th>k</th>\n",
       "      <th>mean_f1</th>\n",
       "      <th>std_f1</th>\n",
       "      <th>mean_precision</th>\n",
       "      <th>std_precision</th>\n",
       "      <th>mean_recall</th>\n",
       "      <th>std_recall</th>\n",
       "    </tr>\n",
       "  </thead>\n",
       "  <tbody>\n",
       "    <tr>\n",
       "      <th>0</th>\n",
       "      <td>3</td>\n",
       "      <td>0.928924</td>\n",
       "      <td>0.031333</td>\n",
       "      <td>0.980879</td>\n",
       "      <td>0.025431</td>\n",
       "      <td>0.884299</td>\n",
       "      <td>0.054838</td>\n",
       "    </tr>\n",
       "    <tr>\n",
       "      <th>1</th>\n",
       "      <td>5</td>\n",
       "      <td>0.916877</td>\n",
       "      <td>0.032237</td>\n",
       "      <td>0.973230</td>\n",
       "      <td>0.028058</td>\n",
       "      <td>0.868989</td>\n",
       "      <td>0.056185</td>\n",
       "    </tr>\n",
       "    <tr>\n",
       "      <th>2</th>\n",
       "      <td>7</td>\n",
       "      <td>0.907523</td>\n",
       "      <td>0.038361</td>\n",
       "      <td>0.974393</td>\n",
       "      <td>0.031628</td>\n",
       "      <td>0.852552</td>\n",
       "      <td>0.066420</td>\n",
       "    </tr>\n",
       "    <tr>\n",
       "      <th>3</th>\n",
       "      <td>9</td>\n",
       "      <td>0.901331</td>\n",
       "      <td>0.041758</td>\n",
       "      <td>0.975860</td>\n",
       "      <td>0.028757</td>\n",
       "      <td>0.840678</td>\n",
       "      <td>0.069738</td>\n",
       "    </tr>\n",
       "    <tr>\n",
       "      <th>4</th>\n",
       "      <td>11</td>\n",
       "      <td>0.894219</td>\n",
       "      <td>0.038541</td>\n",
       "      <td>0.973521</td>\n",
       "      <td>0.030084</td>\n",
       "      <td>0.830092</td>\n",
       "      <td>0.066719</td>\n",
       "    </tr>\n",
       "    <tr>\n",
       "      <th>5</th>\n",
       "      <td>13</td>\n",
       "      <td>0.887222</td>\n",
       "      <td>0.040716</td>\n",
       "      <td>0.974528</td>\n",
       "      <td>0.031178</td>\n",
       "      <td>0.817793</td>\n",
       "      <td>0.069130</td>\n",
       "    </tr>\n",
       "    <tr>\n",
       "      <th>6</th>\n",
       "      <td>15</td>\n",
       "      <td>0.877252</td>\n",
       "      <td>0.046346</td>\n",
       "      <td>0.973878</td>\n",
       "      <td>0.031050</td>\n",
       "      <td>0.802149</td>\n",
       "      <td>0.077110</td>\n",
       "    </tr>\n",
       "    <tr>\n",
       "      <th>7</th>\n",
       "      <td>17</td>\n",
       "      <td>0.873770</td>\n",
       "      <td>0.046504</td>\n",
       "      <td>0.974399</td>\n",
       "      <td>0.031119</td>\n",
       "      <td>0.796356</td>\n",
       "      <td>0.077899</td>\n",
       "    </tr>\n",
       "    <tr>\n",
       "      <th>8</th>\n",
       "      <td>19</td>\n",
       "      <td>0.868569</td>\n",
       "      <td>0.045271</td>\n",
       "      <td>0.975840</td>\n",
       "      <td>0.031641</td>\n",
       "      <td>0.786828</td>\n",
       "      <td>0.076174</td>\n",
       "    </tr>\n",
       "    <tr>\n",
       "      <th>9</th>\n",
       "      <td>21</td>\n",
       "      <td>0.861032</td>\n",
       "      <td>0.048563</td>\n",
       "      <td>0.971586</td>\n",
       "      <td>0.034082</td>\n",
       "      <td>0.777299</td>\n",
       "      <td>0.077124</td>\n",
       "    </tr>\n",
       "  </tbody>\n",
       "</table>\n",
       "</div>"
      ]
     },
     "execution_count": 8,
     "metadata": {},
     "output_type": "execute_result"
    }
   ],
   "execution_count": 8
  }
 ],
 "metadata": {
  "kernelspec": {
   "display_name": "Python 3",
   "language": "python",
   "name": "python3"
  },
  "language_info": {
   "codemirror_mode": {
    "name": "ipython",
    "version": 2
   },
   "file_extension": ".py",
   "mimetype": "text/x-python",
   "name": "python",
   "nbconvert_exporter": "python",
   "pygments_lexer": "ipython2",
   "version": "2.7.6"
  }
 },
 "nbformat": 4,
 "nbformat_minor": 5
}
