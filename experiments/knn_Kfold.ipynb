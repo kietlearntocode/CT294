{
 "cells": [
  {
   "metadata": {},
   "cell_type": "code",
   "source": [
    "import pandas as pd\n",
    "import numpy as np\n",
    "import matplotlib.pyplot as plt\n",
    "from sklearn.model_selection import RepeatedStratifiedKFold\n",
    "from sklearn.neighbors import KNeighborsClassifier\n",
    "from sklearn.metrics import f1_score, precision_score, recall_score\n",
    "from sklearn.preprocessing import StandardScaler\n",
    "from imblearn.over_sampling import SMOTE"
   ],
   "id": "fbc121e30a2defb3",
   "outputs": [],
   "execution_count": null
  },
  {
   "metadata": {},
   "cell_type": "code",
   "source": [
    "path = '..\\data\\parkinsons.data'\n",
    "data = pd.read_csv(path, sep=',')"
   ],
   "id": "350c76953402a920",
   "outputs": [],
   "execution_count": null
  },
  {
   "metadata": {},
   "cell_type": "code",
   "source": [
    "X = data.drop(columns=['name', 'status'])\n",
    "y = data['status']"
   ],
   "id": "8ac2ddaa14a4bdfa",
   "outputs": [],
   "execution_count": null
  },
  {
   "metadata": {},
   "cell_type": "markdown",
   "source": "K - FOLD",
   "id": "90b87a6014451bf5"
  },
  {
   "metadata": {},
   "cell_type": "code",
   "source": [
    "# Thử từng k để chọn k tốt nhất.\n",
    "# Chọn k lẻ vì bài toán có 2 lớp, tránh hòa phiếu\n",
    "k_values = range(3, 22, 2)  # 3 -> 21\n",
    "result = {}\n",
    "\n",
    "# Bổ sung: Lưu kết quả chi tiết để tạo DataFrame\n",
    "result_list = []\n",
    "\n",
    "for k in k_values:\n",
    "    f1_scores = []\n",
    "    precision_scores = []\n",
    "    recall_scores = []\n",
    "\n",
    "    # lặp 100 mỗi k\n",
    "    rskf = RepeatedStratifiedKFold(n_splits=5, n_repeats=20, random_state=42)\n",
    "\n",
    "    for train_idx, test_idx in rskf.split(X, y):\n",
    "        X_train, X_test = X.iloc[train_idx], X.iloc[test_idx]\n",
    "        y_train, y_test = y.iloc[train_idx], y.iloc[test_idx]\n",
    "\n",
    "        scaler = StandardScaler()\n",
    "        X_train_scaled = pd.DataFrame(scaler.fit_transform(X_train), index=X_train.index, columns=X_train.columns)\n",
    "        X_test_scaled = pd.DataFrame(scaler.transform(X_test), index=X_test.index, columns=X_test.columns)\n",
    "        # StandardScaler chuẩn hóa theo công thức Z-score:\n",
    "        #     X_scaled = (X - μ) / σ\n",
    "        # Trong đó:\n",
    "        #     - X: giá trị gốc\n",
    "        #     - μ: trung bình của thuộc tính (mean)\n",
    "        #     - σ: độ lệch chuẩn (standard deviation)\n",
    "        # Kết quả: dữ liệu có mean = 0 và std = 1\n",
    "\n",
    "        smote = SMOTE(random_state=42)\n",
    "        X_resampled, y_resampled = smote.fit_resample(X_train_scaled, y_train)\n",
    "\n",
    "        model = KNeighborsClassifier(n_neighbors=k)\n",
    "        model.fit(X_resampled, y_resampled)\n",
    "        y_pred = model.predict(X_test_scaled)\n",
    "\n",
    "        f1 = f1_score(y_test, y_pred, average='binary')\n",
    "        prec = precision_score(y_test, y_pred, average='binary')\n",
    "        rec = recall_score(y_test, y_pred, average='binary')\n",
    "\n",
    "        f1_scores.append(f1)\n",
    "        precision_scores.append(prec)\n",
    "        recall_scores.append(rec)\n",
    "\n",
    "    mean_f1 = np.mean(f1_scores)\n",
    "    std_f1 = np.std(f1_scores)\n",
    "    mean_prec = np.mean(precision_scores)\n",
    "    std_prec = np.std(precision_scores)\n",
    "    mean_rec = np.mean(recall_scores)\n",
    "    std_rec = np.std(recall_scores)\n",
    "\n",
    "    result[k] = (mean_f1, std_f1)\n",
    "\n",
    "    # Bổ sung để tạo bảng kết quả\n",
    "    result_list.append({\n",
    "        \"k\": k,\n",
    "        \"mean_f1\": mean_f1,\n",
    "        \"std_f1\": std_f1,\n",
    "        \"mean_precision\": mean_prec,\n",
    "        \"std_precision\": std_prec,\n",
    "        \"mean_recall\": mean_rec,\n",
    "        \"std_recall\": std_rec\n",
    "    })\n",
    "\n",
    "# Tìm k tốt nhất theo F1 trung bình\n",
    "best_k_value, (best_mean_f1, best_std_f1) = max(result.items(), key=lambda x: x[1][0])\n",
    "\n",
    "# Bổ sung: Tạo DataFrame kết quả và sắp xếp\n",
    "result_df = pd.DataFrame(result_list)\n",
    "result_df = result_df.sort_values(by=\"mean_f1\", ascending=False).reset_index(drop=True)"
   ],
   "id": "bf748bf70fddb9f0",
   "outputs": [],
   "execution_count": null
  },
  {
   "metadata": {},
   "cell_type": "markdown",
   "source": "SO SÁNH F1 TRUNG BÌNH VÀ ĐỘ LỆCH CHUẨN CỦA MÔ HÌNH KNN THEO K",
   "id": "a72f9211788f8713"
  },
  {
   "metadata": {},
   "cell_type": "code",
   "source": [
    "k_vals = list(result.keys())\n",
    "means = [result[k][0] * 100 for k in k_vals]   # F1-score trung bình của từng lần lặp k\n",
    "stds = [result[k][1] * 100 for k in k_vals]   # Độ lệch chuẩn F1 (%) của từng lần lặp k\n",
    "\n",
    "plt.figure(figsize=(10, 6))\n",
    "plt.errorbar(k_vals, means, yerr=stds, fmt='-o', capsize=4, color='darkgreen')\n",
    "plt.axvline(best_k_value, color='red', linestyle='--', label=f'Best k = {best_k_value}')\n",
    "plt.xlabel('Giá trị k')\n",
    "plt.xticks(range(min(k_vals), max(k_vals)+1, 2))\n",
    "plt.yticks(range(76, 101, 2))\n",
    "plt.ylabel('F1-score trung bình (%)')\n",
    "plt.title('F1-score theo k và độ ổn định (± std)')\n",
    "plt.legend()\n",
    "plt.grid(True, linestyle='--', alpha=0.5)\n",
    "plt.show()"
   ],
   "id": "8aaed0a14a0f33b8",
   "outputs": [],
   "execution_count": null
  },
  {
   "metadata": {},
   "cell_type": "code",
   "source": "result_df",
   "id": "5637a7e4006c135c",
   "outputs": [],
   "execution_count": null
  }
 ],
 "metadata": {
  "kernelspec": {
   "display_name": "Python 3",
   "language": "python",
   "name": "python3"
  },
  "language_info": {
   "codemirror_mode": {
    "name": "ipython",
    "version": 2
   },
   "file_extension": ".py",
   "mimetype": "text/x-python",
   "name": "python",
   "nbconvert_exporter": "python",
   "pygments_lexer": "ipython2",
   "version": "2.7.6"
  }
 },
 "nbformat": 4,
 "nbformat_minor": 5
}
