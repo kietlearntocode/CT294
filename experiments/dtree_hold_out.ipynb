{
 "cells": [
  {
   "metadata": {},
   "cell_type": "code",
   "source": [
    "import pandas as pd\n",
    "import numpy as np\n",
    "import matplotlib.pyplot as plt\n",
    "from sklearn.model_selection import StratifiedShuffleSplit\n",
    "from sklearn.tree import DecisionTreeClassifier\n",
    "from sklearn.metrics import f1_score, recall_score, precision_score\n",
    "from itertools import product\n",
    "from joblib import Parallel, delayed"
   ],
   "id": "fbc121e30a2defb3",
   "outputs": [],
   "execution_count": null
  },
  {
   "metadata": {},
   "cell_type": "code",
   "source": [
    "path = '..\\data\\parkinsons.data'\n",
    "data = pd.read_csv(path, sep=',')"
   ],
   "id": "350c76953402a920",
   "outputs": [],
   "execution_count": null
  },
  {
   "metadata": {},
   "cell_type": "code",
   "source": [
    "X = data.drop(columns=['name', 'status'])\n",
    "y = data['status']"
   ],
   "id": "8ac2ddaa14a4bdfa",
   "outputs": [],
   "execution_count": null
  },
  {
   "metadata": {},
   "cell_type": "markdown",
   "source": "HOLD - OUT",
   "id": "90b87a6014451bf5"
  },
  {
   "metadata": {},
   "cell_type": "code",
   "source": [
    "# Chạy 1500 tổ hợp: 10 x 15 x 10\n",
    "param_grid = {\n",
    "    'max_depth': list(range(3, 11)),\n",
    "    'min_samples_split': list(range(5, 20)),\n",
    "    'min_samples_leaf': list(range(2, 11)),\n",
    "}\n",
    "\n",
    "num_iterations = 100  # Lặp 100 lần mỗi tổ hợp\n",
    "random_state_base = 42\n",
    "\n",
    "combos = []\n",
    "for max_depth, min_samples_split, min_samples_leaf in product(\n",
    "    param_grid['max_depth'],\n",
    "    param_grid['min_samples_split'],\n",
    "    param_grid['min_samples_leaf']\n",
    "):\n",
    "    if min_samples_leaf >= min_samples_split:\n",
    "        continue\n",
    "    combos.append({\n",
    "        'max_depth': max_depth,\n",
    "        'min_samples_split': min_samples_split,\n",
    "        'min_samples_leaf': min_samples_leaf\n",
    "    })\n",
    "\n",
    "\n",
    "def evaluate_combo(params):\n",
    "    f1_scores = []\n",
    "    precision_scores = []\n",
    "    recall_scores = []\n",
    "\n",
    "    rskf = StratifiedShuffleSplit(n_splits=num_iterations, test_size=0.2, random_state=42)\n",
    "    for split_id, (train_idx, test_idx) in enumerate(rskf.split(X, y)):\n",
    "        X_train, X_test = X.iloc[train_idx], X.iloc[test_idx]\n",
    "        y_train, y_test = y.iloc[train_idx], y.iloc[test_idx]\n",
    "\n",
    "        model = DecisionTreeClassifier(\n",
    "            max_depth=params['max_depth'],\n",
    "            min_samples_split=params['min_samples_split'],\n",
    "            min_samples_leaf=params['min_samples_leaf'],\n",
    "            random_state=random_state_base + split_id,\n",
    "            criterion='gini',\n",
    "            max_features='sqrt',\n",
    "            class_weight='balanced',\n",
    "        )\n",
    "\n",
    "        model.fit(X_train, y_train)\n",
    "        y_pred = model.predict(X_test)\n",
    "\n",
    "        f1_scores.append(f1_score(y_test, y_pred, average='binary'))\n",
    "        precision_scores.append(precision_score(y_test, y_pred, average='binary'))\n",
    "        recall_scores.append(recall_score(y_test, y_pred, average='binary'))\n",
    "\n",
    "    return {\n",
    "        **params,\n",
    "        'mean_f1': np.mean(f1_scores),\n",
    "        'std_f1': np.std(f1_scores),\n",
    "        'mean_precision': np.mean(precision_scores),\n",
    "        'std_precision': np.std(precision_scores),\n",
    "        'mean_recall': np.mean(recall_scores),\n",
    "        'std_recall': np.std(recall_scores)\n",
    "    }\n",
    "\n",
    "# Tính toán\n",
    "results = Parallel(n_jobs=-1)(\n",
    "    delayed(evaluate_combo)(params) for params in combos\n",
    ")\n",
    "\n",
    "# Kết quả\n",
    "df_result = pd.DataFrame(results)\n",
    "df_result_sorted = df_result.sort_values(by='mean_f1', ascending=False)"
   ],
   "id": "bf748bf70fddb9f0",
   "outputs": [],
   "execution_count": null
  },
  {
   "metadata": {},
   "cell_type": "code",
   "source": "df_result_sorted",
   "id": "fe58febf1dff40ce",
   "outputs": [],
   "execution_count": null
  }
 ],
 "metadata": {
  "kernelspec": {
   "display_name": "Python 3",
   "language": "python",
   "name": "python3"
  },
  "language_info": {
   "codemirror_mode": {
    "name": "ipython",
    "version": 2
   },
   "file_extension": ".py",
   "mimetype": "text/x-python",
   "name": "python",
   "nbconvert_exporter": "python",
   "pygments_lexer": "ipython2",
   "version": "2.7.6"
  }
 },
 "nbformat": 4,
 "nbformat_minor": 5
}
