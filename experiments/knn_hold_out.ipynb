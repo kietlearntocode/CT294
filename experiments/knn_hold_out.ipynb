{
 "cells": [
  {
   "metadata": {},
   "cell_type": "markdown",
   "source": [
    "# This is a sample Jupyter Notebook\n",
    "\n",
    "Below is an example of a code cell. \n",
    "Put your cursor into the cell and press Shift+Enter to execute it and select the next one, or click 'Run Cell' button.\n",
    "\n",
    "Press Double Shift to search everywhere for classes, files, tool windows, actions, and settings.\n",
    "\n",
    "To learn more about Jupyter Notebooks in PyCharm, see [help](https://www.jetbrains.com/help/pycharm/ipython-notebook-support.html).\n",
    "For an overview of PyCharm, go to Help -> Learn IDE features or refer to [our documentation](https://www.jetbrains.com/help/pycharm/getting-started.html)."
   ],
   "id": "8a77807f92f26ee"
  },
  {
   "metadata": {
    "ExecuteTime": {
     "end_time": "2025-07-05T05:25:50.813952Z",
     "start_time": "2025-07-05T05:25:50.807321Z"
    }
   },
   "cell_type": "code",
   "source": [
    "import pandas as pd\n",
    "import numpy as np\n",
    "import matplotlib.pyplot as plt\n",
    "from sklearn.model_selection import StratifiedShuffleSplit\n",
    "from sklearn.neighbors import KNeighborsClassifier\n",
    "from sklearn.metrics import f1_score, precision_score, recall_score\n",
    "from sklearn.preprocessing import StandardScaler\n",
    "from imblearn.over_sampling import SMOTE"
   ],
   "id": "fbc121e30a2defb3",
   "outputs": [],
   "execution_count": 25
  },
  {
   "metadata": {
    "ExecuteTime": {
     "end_time": "2025-07-05T05:25:50.848934Z",
     "start_time": "2025-07-05T05:25:50.844656Z"
    }
   },
   "cell_type": "code",
   "source": [
    "path = '..\\data\\parkinsons.data'\n",
    "data = pd.read_csv(path, sep=',')"
   ],
   "id": "350c76953402a920",
   "outputs": [],
   "execution_count": 26
  },
  {
   "metadata": {
    "ExecuteTime": {
     "end_time": "2025-07-05T05:25:50.877851Z",
     "start_time": "2025-07-05T05:25:50.873900Z"
    }
   },
   "cell_type": "code",
   "source": [
    "X = data.drop(columns=['name', 'status'])\n",
    "y = data['status']"
   ],
   "id": "8ac2ddaa14a4bdfa",
   "outputs": [],
   "execution_count": 27
  },
  {
   "metadata": {},
   "cell_type": "markdown",
   "source": "HOLD OUT",
   "id": "90b87a6014451bf5"
  },
  {
   "metadata": {
    "ExecuteTime": {
     "end_time": "2025-07-05T05:26:02.713404Z",
     "start_time": "2025-07-05T05:25:50.902193Z"
    }
   },
   "cell_type": "code",
   "source": [
    "# Thử từng k để chọn k tốt nhất.\n",
    "# Chọn k lẻ vì bài toán có 2 lớp, tránh hòa phiếu\n",
    "k_values = range(3, 22, 2)\n",
    "\n",
    "result = {}\n",
    "num_iterations = 100\n",
    "\n",
    "# Bổ sung: Lưu từng kết quả vào list để tạo DataFrame\n",
    "result_list = []\n",
    "\n",
    "for k in k_values:\n",
    "    f1_scores = []\n",
    "    precision_scores = []\n",
    "    recall_scores = []\n",
    "\n",
    "    # lặp 100 lần mỗi k\n",
    "    sss = StratifiedShuffleSplit(n_splits=num_iterations, test_size=0.2, random_state=42)\n",
    "\n",
    "    for split_idx, (train_idx, test_idx) in enumerate(sss.split(X, y)):\n",
    "        X_train, X_test = X.iloc[train_idx], X.iloc[test_idx]\n",
    "        y_train, y_test = y.iloc[train_idx], y.iloc[test_idx]\n",
    "\n",
    "        scaler = StandardScaler()\n",
    "        X_train_scaled = pd.DataFrame(scaler.fit_transform(X_train), index=X_train.index, columns=X_train.columns)\n",
    "        X_test_scaled = pd.DataFrame(scaler.transform(X_test), index=X_test.index, columns=X_test.columns)\n",
    "        # StandardScaler chuẩn hóa theo công thức Z-score:\n",
    "        #     X_scaled = (X - μ) / σ\n",
    "        # Trong đó:\n",
    "        #     - X: giá trị gốc\n",
    "        #     - μ: trung bình của thuộc tính (mean)\n",
    "        #     - σ: độ lệch chuẩn (standard deviation)\n",
    "        # Kết quả: dữ liệu có mean = 0 và std = 1\n",
    "\n",
    "        smote = SMOTE(random_state=42)\n",
    "        X_resampled, y_resampled = smote.fit_resample(X_train_scaled, y_train)\n",
    "\n",
    "        model = KNeighborsClassifier(n_neighbors=k)\n",
    "        model.fit(X_resampled, y_resampled)\n",
    "        y_pred = model.predict(X_test_scaled)\n",
    "\n",
    "        f1 = f1_score(y_test, y_pred, average='binary')\n",
    "        prec = precision_score(y_test, y_pred, average='binary')\n",
    "        rec = recall_score(y_test, y_pred, average='binary')\n",
    "\n",
    "        f1_scores.append(f1)\n",
    "        precision_scores.append(prec)\n",
    "        recall_scores.append(rec)\n",
    "\n",
    "    mean_f1 = np.mean(f1_scores)\n",
    "    std_f1 = np.std(f1_scores)\n",
    "    mean_prec = np.mean(precision_scores)\n",
    "    std_prec = np.std(precision_scores)\n",
    "    mean_rec = np.mean(recall_scores)\n",
    "    std_rec = np.std(recall_scores)\n",
    "\n",
    "    result[k] = mean_f1, std_f1\n",
    "\n",
    "    # Thêm vào list để tạo bảng tổng hợp\n",
    "    result_list.append({\n",
    "        \"k\": k,\n",
    "        \"mean_f1\": mean_f1,\n",
    "        \"std_f1\": std_f1,\n",
    "        \"mean_precision\": mean_prec,\n",
    "        \"std_precision\": std_prec,\n",
    "        \"mean_recall\": mean_rec,\n",
    "        \"std_recall\": std_rec\n",
    "    })\n",
    "\n",
    "result_df = pd.DataFrame(result_list)\n",
    "result_df = result_df.sort_values(by=\"mean_f1\", ascending=False).reset_index(drop=True)"
   ],
   "id": "bf748bf70fddb9f0",
   "outputs": [],
   "execution_count": 28
  },
  {
   "metadata": {},
   "cell_type": "markdown",
   "source": "SO SÁNH F1 TRUNG BÌNH VÀ ĐỘ LỆCH CHUẨN CỦA MÔ HÌNH KNN THEO K",
   "id": "a72f9211788f8713"
  },
  {
   "metadata": {
    "ExecuteTime": {
     "end_time": "2025-07-05T05:26:02.807228Z",
     "start_time": "2025-07-05T05:26:02.737749Z"
    }
   },
   "cell_type": "code",
   "source": [
    "k_vals = list(result.keys())\n",
    "means = [result[k][0] * 100 for k in k_vals]   # F1-score trung bình của từng lần lặp k\n",
    "stds = [result[k][1] * 100 for k in k_vals]   # Độ lệch chuẩn F1 (%) của từng lần lặp k\n",
    "\n",
    "plt.figure(figsize=(10, 6))\n",
    "plt.errorbar(k_vals, means, yerr=stds, fmt='-o', capsize=4, color='darkgreen')\n",
    "plt.axvline(best_k_value, color='red', linestyle='--', label=f'Best k = {best_k_value}')\n",
    "plt.xlabel('Giá trị k')\n",
    "plt.xticks(range(min(k_vals), max(k_vals)+1, 2))\n",
    "plt.yticks(range(76, 101, 2))\n",
    "plt.ylabel('F1-score trung bình (%)')\n",
    "plt.title('F1-score theo k và độ ổn định (± std)')\n",
    "plt.legend()\n",
    "plt.grid(True, linestyle='--', alpha=0.5)\n",
    "plt.show()\n"
   ],
   "id": "8aaed0a14a0f33b8",
   "outputs": [
    {
     "data": {
      "text/plain": [
       "<Figure size 1000x600 with 1 Axes>"
      ],
      "image/png": "[encoded data removed]"
     },
     "metadata": {},
     "output_type": "display_data"
    }
   ],
   "execution_count": 29
  },
  {
   "metadata": {},
   "cell_type": "markdown",
   "source": "ĐỘ CHÍNH XÁC CỦA MÔ HÌNH",
   "id": "7039c36a857106aa"
  },
  {
   "metadata": {
    "ExecuteTime": {
     "end_time": "2025-07-05T05:26:02.838245Z",
     "start_time": "2025-07-05T05:26:02.832240Z"
    }
   },
   "cell_type": "code",
   "source": "result_df",
   "id": "5637a7e4006c135c",
   "outputs": [
    {
     "data": {
      "text/plain": [
       "    k   mean_f1    std_f1  mean_precision  std_precision  mean_recall  \\\n",
       "0   3  0.930897  0.032052        0.973569       0.029202     0.893793   \n",
       "1   5  0.917711  0.031080        0.971267       0.027937     0.872069   \n",
       "2   7  0.905503  0.035456        0.967472       0.035018     0.854483   \n",
       "3   9  0.897698  0.038231        0.968919       0.034353     0.839655   \n",
       "4  11  0.893573  0.037231        0.971725       0.035836     0.830690   \n",
       "5  13  0.886725  0.042969        0.972033       0.034758     0.818966   \n",
       "6  15  0.876640  0.047762        0.970202       0.036752     0.804138   \n",
       "7  17  0.869160  0.048968        0.968229       0.038878     0.793103   \n",
       "8  19  0.868262  0.048900        0.965689       0.039585     0.793103   \n",
       "9  21  0.863464  0.052132        0.965326       0.039718     0.785862   \n",
       "\n",
       "   std_recall  \n",
       "0    0.053572  \n",
       "1    0.055451  \n",
       "2    0.064618  \n",
       "3    0.066753  \n",
       "4    0.065444  \n",
       "5    0.071067  \n",
       "6    0.078917  \n",
       "7    0.079235  \n",
       "8    0.077873  \n",
       "9    0.082369  "
      ],
      "text/html": [
       "<div>\n",
       "<style scoped>\n",
       "    .dataframe tbody tr th:only-of-type {\n",
       "        vertical-align: middle;\n",
       "    }\n",
       "\n",
       "    .dataframe tbody tr th {\n",
       "        vertical-align: top;\n",
       "    }\n",
       "\n",
       "    .dataframe thead th {\n",
       "        text-align: right;\n",
       "    }\n",
       "</style>\n",
       "<table border=\"1\" class=\"dataframe\">\n",
       "  <thead>\n",
       "    <tr style=\"text-align: right;\">\n",
       "      <th></th>\n",
       "      <th>k</th>\n",
       "      <th>mean_f1</th>\n",
       "      <th>std_f1</th>\n",
       "      <th>mean_precision</th>\n",
       "      <th>std_precision</th>\n",
       "      <th>mean_recall</th>\n",
       "      <th>std_recall</th>\n",
       "    </tr>\n",
       "  </thead>\n",
       "  <tbody>\n",
       "    <tr>\n",
       "      <th>0</th>\n",
       "      <td>3</td>\n",
       "      <td>0.930897</td>\n",
       "      <td>0.032052</td>\n",
       "      <td>0.973569</td>\n",
       "      <td>0.029202</td>\n",
       "      <td>0.893793</td>\n",
       "      <td>0.053572</td>\n",
       "    </tr>\n",
       "    <tr>\n",
       "      <th>1</th>\n",
       "      <td>5</td>\n",
       "      <td>0.917711</td>\n",
       "      <td>0.031080</td>\n",
       "      <td>0.971267</td>\n",
       "      <td>0.027937</td>\n",
       "      <td>0.872069</td>\n",
       "      <td>0.055451</td>\n",
       "    </tr>\n",
       "    <tr>\n",
       "      <th>2</th>\n",
       "      <td>7</td>\n",
       "      <td>0.905503</td>\n",
       "      <td>0.035456</td>\n",
       "      <td>0.967472</td>\n",
       "      <td>0.035018</td>\n",
       "      <td>0.854483</td>\n",
       "      <td>0.064618</td>\n",
       "    </tr>\n",
       "    <tr>\n",
       "      <th>3</th>\n",
       "      <td>9</td>\n",
       "      <td>0.897698</td>\n",
       "      <td>0.038231</td>\n",
       "      <td>0.968919</td>\n",
       "      <td>0.034353</td>\n",
       "      <td>0.839655</td>\n",
       "      <td>0.066753</td>\n",
       "    </tr>\n",
       "    <tr>\n",
       "      <th>4</th>\n",
       "      <td>11</td>\n",
       "      <td>0.893573</td>\n",
       "      <td>0.037231</td>\n",
       "      <td>0.971725</td>\n",
       "      <td>0.035836</td>\n",
       "      <td>0.830690</td>\n",
       "      <td>0.065444</td>\n",
       "    </tr>\n",
       "    <tr>\n",
       "      <th>5</th>\n",
       "      <td>13</td>\n",
       "      <td>0.886725</td>\n",
       "      <td>0.042969</td>\n",
       "      <td>0.972033</td>\n",
       "      <td>0.034758</td>\n",
       "      <td>0.818966</td>\n",
       "      <td>0.071067</td>\n",
       "    </tr>\n",
       "    <tr>\n",
       "      <th>6</th>\n",
       "      <td>15</td>\n",
       "      <td>0.876640</td>\n",
       "      <td>0.047762</td>\n",
       "      <td>0.970202</td>\n",
       "      <td>0.036752</td>\n",
       "      <td>0.804138</td>\n",
       "      <td>0.078917</td>\n",
       "    </tr>\n",
       "    <tr>\n",
       "      <th>7</th>\n",
       "      <td>17</td>\n",
       "      <td>0.869160</td>\n",
       "      <td>0.048968</td>\n",
       "      <td>0.968229</td>\n",
       "      <td>0.038878</td>\n",
       "      <td>0.793103</td>\n",
       "      <td>0.079235</td>\n",
       "    </tr>\n",
       "    <tr>\n",
       "      <th>8</th>\n",
       "      <td>19</td>\n",
       "      <td>0.868262</td>\n",
       "      <td>0.048900</td>\n",
       "      <td>0.965689</td>\n",
       "      <td>0.039585</td>\n",
       "      <td>0.793103</td>\n",
       "      <td>0.077873</td>\n",
       "    </tr>\n",
       "    <tr>\n",
       "      <th>9</th>\n",
       "      <td>21</td>\n",
       "      <td>0.863464</td>\n",
       "      <td>0.052132</td>\n",
       "      <td>0.965326</td>\n",
       "      <td>0.039718</td>\n",
       "      <td>0.785862</td>\n",
       "      <td>0.082369</td>\n",
       "    </tr>\n",
       "  </tbody>\n",
       "</table>\n",
       "</div>"
      ]
     },
     "execution_count": 30,
     "metadata": {},
     "output_type": "execute_result"
    }
   ],
   "execution_count": 30
  }
 ],
 "metadata": {
  "kernelspec": {
   "display_name": "Python 3",
   "language": "python",
   "name": "python3"
  },
  "language_info": {
   "codemirror_mode": {
    "name": "ipython",
    "version": 2
   },
   "file_extension": ".py",
   "mimetype": "text/x-python",
   "name": "python",
   "nbconvert_exporter": "python",
   "pygments_lexer": "ipython2",
   "version": "2.7.6"
  }
 },
 "nbformat": 4,
 "nbformat_minor": 5
}
